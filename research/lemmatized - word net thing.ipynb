{
 "cells": [
  {
   "cell_type": "code",
   "execution_count": 1,
   "metadata": {
    "collapsed": false
   },
   "outputs": [
    {
     "name": "stdout",
     "output_type": "stream",
     "text": [
      "dog\n",
      "domestic_dog\n",
      "Canis_familiaris\n",
      "frump\n",
      "dog\n",
      "dog\n",
      "cad\n",
      "bounder\n",
      "blackguard\n",
      "dog\n",
      "hound\n",
      "heel\n",
      "frank\n",
      "frankfurter\n",
      "hotdog\n",
      "hot_dog\n",
      "dog\n",
      "wiener\n",
      "wienerwurst\n",
      "weenie\n",
      "pawl\n",
      "detent\n",
      "click\n",
      "dog\n",
      "andiron\n",
      "firedog\n",
      "dog\n",
      "dog-iron\n",
      "chase\n",
      "chase_after\n",
      "trail\n",
      "tail\n",
      "tag\n",
      "give_chase\n",
      "dog\n",
      "go_after\n",
      "track\n"
     ]
    }
   ],
   "source": [
    "import nltk\n",
    "from nltk.corpus import wordnet as wn\n",
    "for synset in wn.synsets('dog'):\n",
    "    for lemma in synset.lemmas():\n",
    "        print lemma.name()"
   ]
  },
  {
   "cell_type": "code",
   "execution_count": 73,
   "metadata": {
    "collapsed": false
   },
   "outputs": [
    {
     "name": "stdout",
     "output_type": "stream",
     "text": [
      "oppressor\n"
     ]
    }
   ],
   "source": [
    "word = \"oppressor\"\n",
    "import nltk\n",
    "from nltk.corpus import wordnet as wn\n",
    "for synset in wn.synsets(word):\n",
    "    for lemma in synset.lemmas():\n",
    "        print lemma.name()\n",
    "        \n",
    "        \n",
    "#stem\n",
    "# def stem_remover(word_list):\n",
    "#     return word_list\n",
    "#     new_list = []\n",
    "#     stemmer = SnowballStemmer(\"english\")\n",
    "#     for word in word_list:\n",
    "#         new_word = stemmer.stem(word)\n",
    "#         new_list.append(new_word)\n",
    "#     return new_list"
   ]
  },
  {
   "cell_type": "code",
   "execution_count": 70,
   "metadata": {
    "collapsed": false
   },
   "outputs": [
    {
     "name": "stdout",
     "output_type": "stream",
     "text": [
      "set(['oppressed', u'oppress'])\n"
     ]
    }
   ],
   "source": [
    "import nltk\n",
    "from nltk.corpus import wordnet as wn\n",
    "pos_forms = set()\n",
    "for pos in [wn.NOUN, wn.VERB, wn.ADJ, wn.ADV]:\n",
    "    form = wn.morphy(\"oppressed\", pos)\n",
    "    if form and form not in pos_forms:\n",
    "        pos_forms.add(form)\n",
    "print pos_forms"
   ]
  },
  {
   "cell_type": "code",
   "execution_count": 58,
   "metadata": {
    "collapsed": false
   },
   "outputs": [
    {
     "ename": "SyntaxError",
     "evalue": "invalid syntax (<ipython-input-58-48b9e2327510>, line 1)",
     "output_type": "error",
     "traceback": [
      "\u001b[0;36m  File \u001b[0;32m\"<ipython-input-58-48b9e2327510>\"\u001b[0;36m, line \u001b[0;32m1\u001b[0m\n\u001b[0;31m    pip install pattern\u001b[0m\n\u001b[0m              ^\u001b[0m\n\u001b[0;31mSyntaxError\u001b[0m\u001b[0;31m:\u001b[0m invalid syntax\n"
     ]
    }
   ],
   "source": [
    "pip install pattern\n"
   ]
  },
  {
   "cell_type": "code",
   "execution_count": 16,
   "metadata": {
    "collapsed": false
   },
   "outputs": [
    {
     "ename": "SyntaxError",
     "evalue": "invalid syntax (<ipython-input-16-464dd14abb6c>, line 1)",
     "output_type": "error",
     "traceback": [
      "\u001b[0;36m  File \u001b[0;32m\"<ipython-input-16-464dd14abb6c>\"\u001b[0;36m, line \u001b[0;32m1\u001b[0m\n\u001b[0;31m    install pattern\u001b[0m\n\u001b[0m                  ^\u001b[0m\n\u001b[0;31mSyntaxError\u001b[0m\u001b[0;31m:\u001b[0m invalid syntax\n"
     ]
    }
   ],
   "source": [
    "install pattern"
   ]
  },
  {
   "cell_type": "code",
   "execution_count": 28,
   "metadata": {
    "collapsed": false
   },
   "outputs": [
    {
     "name": "stdout",
     "output_type": "stream",
     "text": [
      "run\n"
     ]
    }
   ],
   "source": [
    "#pip install pattern\n",
    "#pattern.en as en\n",
    "base_form = en.lemma('ran')\n",
    "print(base_form)"
   ]
  },
  {
   "cell_type": "code",
   "execution_count": 29,
   "metadata": {
    "collapsed": false
   },
   "outputs": [
    {
     "ename": "ImportError",
     "evalue": "No module named textblob",
     "output_type": "error",
     "traceback": [
      "\u001b[0;31m---------------------------------------------------------------------------\u001b[0m",
      "\u001b[0;31mImportError\u001b[0m                               Traceback (most recent call last)",
      "\u001b[0;32m<ipython-input-29-4af9498bf371>\u001b[0m in \u001b[0;36m<module>\u001b[0;34m()\u001b[0m\n\u001b[1;32m      1\u001b[0m \u001b[0;31m# http://rwet.decontextualize.com/book/textblob/\u001b[0m\u001b[0;34m\u001b[0m\u001b[0;34m\u001b[0m\u001b[0m\n\u001b[1;32m      2\u001b[0m \u001b[0;31m# might be helpful??\u001b[0m\u001b[0;34m\u001b[0m\u001b[0;34m\u001b[0m\u001b[0m\n\u001b[0;32m----> 3\u001b[0;31m \u001b[0;32mfrom\u001b[0m \u001b[0mtextblob\u001b[0m \u001b[0;32mimport\u001b[0m \u001b[0mWord\u001b[0m\u001b[0;34m\u001b[0m\u001b[0m\n\u001b[0m\u001b[1;32m      4\u001b[0m \u001b[0mw\u001b[0m \u001b[0;34m=\u001b[0m \u001b[0mWord\u001b[0m\u001b[0;34m(\u001b[0m\u001b[0;34m\"university\"\u001b[0m\u001b[0;34m)\u001b[0m\u001b[0;34m\u001b[0m\u001b[0m\n\u001b[1;32m      5\u001b[0m \u001b[0;32mprint\u001b[0m \u001b[0mw\u001b[0m\u001b[0;34m.\u001b[0m\u001b[0mpluralize\u001b[0m\u001b[0;34m(\u001b[0m\u001b[0;34m)\u001b[0m\u001b[0;34m\u001b[0m\u001b[0m\n",
      "\u001b[0;31mImportError\u001b[0m: No module named textblob"
     ]
    }
   ],
   "source": [
    "# http://rwet.decontextualize.com/book/textblob/\n",
    "# might be helpful??\n",
    "from textblob import Word\n",
    "w = Word(\"university\")\n",
    "print w.pluralize()\n"
   ]
  },
  {
   "cell_type": "code",
   "execution_count": 59,
   "metadata": {
    "collapsed": false
   },
   "outputs": [
    {
     "ename": "SyntaxError",
     "evalue": "invalid syntax (<ipython-input-59-d98b6ad4e211>, line 14)",
     "output_type": "error",
     "traceback": [
      "\u001b[0;36m  File \u001b[0;32m\"<ipython-input-59-d98b6ad4e211>\"\u001b[0;36m, line \u001b[0;32m14\u001b[0m\n\u001b[0;31m    textblob has a function that finds the lemmas of a word like if put in ran or running itll find run\u001b[0m\n\u001b[0m               ^\u001b[0m\n\u001b[0;31mSyntaxError\u001b[0m\u001b[0;31m:\u001b[0m invalid syntax\n"
     ]
    }
   ],
   "source": [
    "# Installation\n",
    "# To use textblob, we of course need to install it! And to install it, we need to create or activate a virtualenv.\n",
    "\n",
    "# $ virtualenv venv\n",
    "# $ source venv/bin/activate\n",
    "# Then, install TextBlob with pip:\n",
    "\n",
    "# $ pip install textblob\n",
    "# Wait as things happen. When it’s all done, you might need to download the TextBlob corpora; to do so, type the following on the command line:\n",
    "\n",
    "# $ python -m textblob.download_corpora\n",
    "\n",
    "\n",
    "textblob has a function that finds the lemmas of a word like if put in ran or running itll find run \n",
    "but it doesnt do the reverse - which we need\n"
   ]
  },
  {
   "cell_type": "code",
   "execution_count": 60,
   "metadata": {
    "collapsed": true
   },
   "outputs": [],
   "source": [
    "from difflib import get_close_matches"
   ]
  },
  {
   "cell_type": "code",
   "execution_count": 61,
   "metadata": {
    "collapsed": false
   },
   "outputs": [
    {
     "name": "stdout",
     "output_type": "stream",
     "text": [
      "walk    2  in ['walk', 'walked']\n",
      "talk    3  in ['talk', 'talks', 'talked']\n",
      "fly     2  in ['fly', 'flying']\n"
     ]
    }
   ],
   "source": [
    "mystring=\"walk walked walking talk talking talks talked fly flying\"\n",
    "list_of_words=[\"walk\",\"talk\",\"fly\"]\n",
    "\n",
    "sp = mystring.split()\n",
    "for x in list_of_words:\n",
    "    li = [y for y in get_close_matches(x,sp,cutoff=0.5)\n",
    "          if x in y]\n",
    "    print '%-7s %d  in %-10s' % (x,len(li),li)"
   ]
  },
  {
   "cell_type": "code",
   "execution_count": null,
   "metadata": {
    "collapsed": true
   },
   "outputs": [],
   "source": []
  }
 ],
 "metadata": {
  "kernelspec": {
   "display_name": "Python 2",
   "language": "python",
   "name": "python2"
  },
  "language_info": {
   "codemirror_mode": {
    "name": "ipython",
    "version": 2
   },
   "file_extension": ".py",
   "mimetype": "text/x-python",
   "name": "python",
   "nbconvert_exporter": "python",
   "pygments_lexer": "ipython2",
   "version": "2.7.11"
  }
 },
 "nbformat": 4,
 "nbformat_minor": 0
}
