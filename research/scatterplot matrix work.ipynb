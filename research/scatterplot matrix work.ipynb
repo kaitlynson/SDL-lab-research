{
 "cells": [
  {
   "cell_type": "code",
   "execution_count": 4,
   "metadata": {
    "collapsed": false
   },
   "outputs": [],
   "source": [
    "import pylab\n",
    "import numpy as np\n",
    "from pandas.tools.plotting import scatter_matrix\n",
    "import pandas as pd\n",
    "\n",
    "def make_scatter_plot(X, name):    \n",
    "    \"\"\"\n",
    "    Make scatterplot.\n",
    "\n",
    "    Parameters:\n",
    "    -----------\n",
    "    X:a design matrix where each column is a feature and each row is an observation.\n",
    "    name: the name of the plot.\n",
    "    \"\"\"\n",
    "    pylab.clf()\n",
    "    df = pd.DataFrame(X)\n",
    "    axs = scatter_matrix(df, alpha=0.2, diagonal='kde')\n",
    "\n",
    "    for ax in axs[:,0]: # the left boundary\n",
    "        ax.grid('off', axis='both')\n",
    "        ax.set_yticks([0, .5])\n",
    "\n",
    "    for ax in axs[-1,:]: # the lower boundary\n",
    "        ax.grid('off', axis='both')\n",
    "        ax.set_xticks([0, .5])\n",
    "\n",
    "    pylab.savefig(name + \".png\")"
   ]
  },
  {
   "cell_type": "code",
   "execution_count": 7,
   "metadata": {
    "collapsed": false
   },
   "outputs": [
    {
     "data": {
      "text/plain": [
       "array([[<matplotlib.axes._subplots.AxesSubplot object at 0x103f45a90>,\n",
       "        <matplotlib.axes._subplots.AxesSubplot object at 0x10f81a450>,\n",
       "        <matplotlib.axes._subplots.AxesSubplot object at 0x10f8a1510>,\n",
       "        <matplotlib.axes._subplots.AxesSubplot object at 0x10f8db390>],\n",
       "       [<matplotlib.axes._subplots.AxesSubplot object at 0x10f98dc50>,\n",
       "        <matplotlib.axes._subplots.AxesSubplot object at 0x10fb26d50>,\n",
       "        <matplotlib.axes._subplots.AxesSubplot object at 0x10fb98c10>,\n",
       "        <matplotlib.axes._subplots.AxesSubplot object at 0x10fd1dd10>],\n",
       "       [<matplotlib.axes._subplots.AxesSubplot object at 0x10fd7c450>,\n",
       "        <matplotlib.axes._subplots.AxesSubplot object at 0x10fe04650>,\n",
       "        <matplotlib.axes._subplots.AxesSubplot object at 0x10fe62f90>,\n",
       "        <matplotlib.axes._subplots.AxesSubplot object at 0x10fefb410>],\n",
       "       [<matplotlib.axes._subplots.AxesSubplot object at 0x10ff2af50>,\n",
       "        <matplotlib.axes._subplots.AxesSubplot object at 0x10ffeb710>,\n",
       "        <matplotlib.axes._subplots.AxesSubplot object at 0x110071750>,\n",
       "        <matplotlib.axes._subplots.AxesSubplot object at 0x1100e36d0>]], dtype=object)"
      ]
     },
     "execution_count": 7,
     "metadata": {},
     "output_type": "execute_result"
    }
   ],
   "source": [
    "from pandas.tools.plotting import scatter_matrix\n",
    "\n",
    "df = pd.DataFrame(np.random.randn(1000, 4), columns=['a', 'b', 'c', 'd'])\n",
    "\n",
    "scatter_matrix(df, alpha=0.2, figsize=(6, 6), diagonal='kde')"
   ]
  },
  {
   "cell_type": "code",
   "execution_count": null,
   "metadata": {
    "collapsed": true
   },
   "outputs": [],
   "source": []
  }
 ],
 "metadata": {
  "kernelspec": {
   "display_name": "Python 2",
   "language": "python",
   "name": "python2"
  },
  "language_info": {
   "codemirror_mode": {
    "name": "ipython",
    "version": 2
   },
   "file_extension": ".py",
   "mimetype": "text/x-python",
   "name": "python",
   "nbconvert_exporter": "python",
   "pygments_lexer": "ipython2",
   "version": "2.7.11"
  }
 },
 "nbformat": 4,
 "nbformat_minor": 2
}
