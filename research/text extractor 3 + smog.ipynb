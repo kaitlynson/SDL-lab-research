{
 "cells": [
  {
   "cell_type": "code",
   "execution_count": 5,
   "metadata": {
    "collapsed": true
   },
   "outputs": [],
   "source": []
  },
  {
   "cell_type": "code",
   "execution_count": 6,
   "metadata": {
    "collapsed": false
   },
   "outputs": [],
   "source": [
    "import json\n",
    "import io # use io.open for outfile or use bz file \n",
    "import bz2\n",
    "import collections as coll\n",
    "import nltk\n",
    "from nltk.corpus import cmudict\n",
    "import string\n",
    "import math\n",
    "import numpy as np\n",
    "import pandas as pd\n",
    "import plotly.plotly as py\n",
    "import plotly.graph_objs as py_go\n",
    "import itertools as itr\n",
    "import glob "
   ]
  },
  {
   "cell_type": "code",
   "execution_count": null,
   "metadata": {
    "collapsed": true
   },
   "outputs": [],
   "source": [
    "SYLLABLE_DICT = cmudict.dict()  "
   ]
  },
  {
   "cell_type": "code",
   "execution_count": null,
   "metadata": {
    "collapsed": true
   },
   "outputs": [],
   "source": [
    "def is_three_plus_syllables(word):\n",
    "    x = SYLLABLE_DICT.get(word.lower())\n",
    "    if x is None:\n",
    "        return False\n",
    "    return len([y for y in x[0] if y[-1].isdigit()]) >= 3\n",
    "\n",
    "def count_poly_syllables(sentence):\n",
    "    words = sentence.split()\n",
    "    return sum(is_three_plus_syllables(word) for word in words)\n",
    "\n",
    "def count_sents(sentence):\n",
    "    return len([''.join(y) for v,y in itr.groupby(sentence, lambda x: x not in '.!?') if v])\n",
    "        \n",
    "def compute_smog_score(list_tweets):\n",
    "    grade = 0\n",
    "    tot_num_pollys = 0\n",
    "    total_num_sentences = 0\n",
    "\n",
    "    for tweet in list_tweets:\n",
    "        total_num_sentences += count_sents(tweet)\n",
    "        tot_num_pollys += count_poly_syllables(tweet)\n",
    "\n",
    "    if total_num_sentences <30: \n",
    "        print \"too few tweets\"\n",
    "        return None\n",
    "\n",
    "    else:\n",
    "        grade = 1.0430*(math.sqrt(tot_num_pollys*(30.0/total_num_sentences))) + 3.1291\n",
    "        return grade"
   ]
  },
  {
   "cell_type": "code",
   "execution_count": 104,
   "metadata": {
    "collapsed": false
   },
   "outputs": [],
   "source": [
    "infile_list = glob.glob(\"/Users/sports195admin/Downloads/success_timelines_*.json.bz2\")\n",
    "for in_file_name in infile_list:\n",
    "    fnum = os.path.basename(in_file_name).split('.')[0][-5:]\n",
    "    out_file_name = \"/Users/sports195admin/Downloads/tweets_{}.json.bz2\".format(fnum)\n",
    "\n",
    "    with bz2.BZ2File(in_file_name) as infile, bz2.BZ2File(out_file_name, 'w') as outfile:\n",
    "\n",
    "        for line in infile: \n",
    "\n",
    "            first_tab = line.index(\"\\t\") # location of first tab char\n",
    "            id = line[:first_tab]\n",
    "\n",
    "            tweets = json.loads(line[first_tab:]) # creates a dict\n",
    "\n",
    "            user_id = tweets[u'user'][0][\"id_str\"] # gets user id as string\n",
    "\n",
    "            list_propics = [x['profile_image_url'] for x in tweets[u'user']]\n",
    "\n",
    "            list_desc = [x['description'] for x in tweets[u'user']]\n",
    "\n",
    "            list_tweets = [x['text'] for x in tweets[u'tweets']] # makes all the user's tweets into a list\n",
    "\n",
    "            tdict = coll.OrderedDict() \n",
    "            tdict[\"uid\"] = user_id\n",
    "            tdict[\"descriptions\"] = list_desc\n",
    "            tdict[\"texts\"] = list_tweets\n",
    "            tdict[\"pics\"] = list_propics\n",
    "\n",
    "            # use json lib to turn dict into json dict/list/string\n",
    "\n",
    "            outfile.write(json.dumps(tdict)+'\\n')\n",
    "\n"
   ]
  },
  {
   "cell_type": "code",
   "execution_count": 105,
   "metadata": {
    "collapsed": false
   },
   "outputs": [
    {
     "name": "stdout",
     "output_type": "stream",
     "text": [
      "5.70368555814\n",
      "0.474683485656\n",
      "8.73688792508\n",
      "4.26140196944\n",
      "5.70368555814\n",
      "0.474797304981\n"
     ]
    }
   ],
   "source": [
    "#total_num_words = 0\n",
    "list_smogs = []\n",
    "list_file_name = glob.glob(\"/Users/sports195admin/Downloads/tweets_*.bz2\")\n",
    "for new_in_file_name in list_file_name:\n",
    "    with bz2.BZ2File(new_in_file_name) as infile:\n",
    "        for i, line in enumerate(infile):\n",
    "            user_dict = json.loads(line)\n",
    "            list_tweets = user_dict[\"texts\"]\n",
    "            list_smogs.append(compute_smog_score(list_tweets)) # this line wont work..\n",
    "            \n",
    "            \n",
    "print np.mean(list_smogs)\n",
    "print np.std(list_smogs)\n",
    "\n",
    "list_smogs_s = pd.Series(list_smogs)\n",
    "print list_smogs_s.max()\n",
    "print list_smogs_s.min()\n",
    "print list_smogs_s.mean()\n",
    "print list_smogs_s.std()\n"
   ]
  },
  {
   "cell_type": "code",
   "execution_count": 106,
   "metadata": {
    "collapsed": false
   },
   "outputs": [
    {
     "data": {
      "text/html": [
       "<iframe id=\"igraph\" scrolling=\"no\" style=\"border:none;\" seamless=\"seamless\" src=\"https://plot.ly/~ks772/13.embed\" height=\"525px\" width=\"100%\"></iframe>"
      ],
      "text/plain": [
       "<plotly.tools.PlotlyDisplay object>"
      ]
     },
     "execution_count": 106,
     "metadata": {},
     "output_type": "execute_result"
    }
   ],
   "source": [
    "data = [\n",
    "    py_go.Histogram(\n",
    "        x= list_smogs\n",
    "    )\n",
    "]\n",
    "py.iplot(data)"
   ]
  },
  {
   "cell_type": "code",
   "execution_count": 107,
   "metadata": {
    "collapsed": false
   },
   "outputs": [
    {
     "data": {
      "text/plain": [
       "2086"
      ]
     },
     "execution_count": 107,
     "metadata": {},
     "output_type": "execute_result"
    }
   ],
   "source": [
    "len(list_smogs)\n",
    "\n"
   ]
  },
  {
   "cell_type": "code",
   "execution_count": 97,
   "metadata": {
    "collapsed": false
   },
   "outputs": [],
   "source": [
    "hello = \"/Users/sports195admin/Downloads/success_timelines_00003.json.bz2\""
   ]
  },
  {
   "cell_type": "raw",
   "metadata": {},
   "source": []
  },
  {
   "cell_type": "code",
   "execution_count": 98,
   "metadata": {
    "collapsed": true
   },
   "outputs": [],
   "source": [
    "import os"
   ]
  },
  {
   "cell_type": "code",
   "execution_count": 103,
   "metadata": {
    "collapsed": false
   },
   "outputs": [
    {
     "data": {
      "text/plain": [
       "'00003'"
      ]
     },
     "execution_count": 103,
     "metadata": {},
     "output_type": "execute_result"
    }
   ],
   "source": [
    "os.path.basename(hello).split('.')[0][-5:]"
   ]
  },
  {
   "cell_type": "code",
   "execution_count": null,
   "metadata": {
    "collapsed": false
   },
   "outputs": [],
   "source": []
  },
  {
   "cell_type": "code",
   "execution_count": null,
   "metadata": {
    "collapsed": false
   },
   "outputs": [],
   "source": []
  },
  {
   "cell_type": "code",
   "execution_count": null,
   "metadata": {
    "collapsed": false
   },
   "outputs": [],
   "source": []
  },
  {
   "cell_type": "code",
   "execution_count": null,
   "metadata": {
    "collapsed": false
   },
   "outputs": [],
   "source": []
  },
  {
   "cell_type": "code",
   "execution_count": null,
   "metadata": {
    "collapsed": false
   },
   "outputs": [],
   "source": []
  },
  {
   "cell_type": "code",
   "execution_count": null,
   "metadata": {
    "collapsed": true
   },
   "outputs": [],
   "source": []
  },
  {
   "cell_type": "code",
   "execution_count": null,
   "metadata": {
    "collapsed": true
   },
   "outputs": [],
   "source": []
  },
  {
   "cell_type": "code",
   "execution_count": null,
   "metadata": {
    "collapsed": true
   },
   "outputs": [],
   "source": [
    "def word_match_counter(clean_words, word_set_dict):\n",
    "    result = {k:0 for k in word_set_dict}\n",
    "    total_count = len(clean_words)\n",
    "    word_counter = coll.Counter(clean_words)\n",
    "    for word, count in word_counter.items():\n",
    "        for k, v in word_set_dict.items():\n",
    "            if word in v:\n",
    "                print(word)\n",
    "                result[k] += count\n",
    "    print(result)            \n",
    "    return {k:v/total_count for k,v in result.items()}\n",
    "\n",
    "## changename vars"
   ]
  }
 ],
 "metadata": {
  "kernelspec": {
   "display_name": "Python 2",
   "language": "python",
   "name": "python2"
  },
  "language_info": {
   "codemirror_mode": {
    "name": "ipython",
    "version": 2
   },
   "file_extension": ".py",
   "mimetype": "text/x-python",
   "name": "python",
   "nbconvert_exporter": "python",
   "pygments_lexer": "ipython2",
   "version": "2.7.11"
  }
 },
 "nbformat": 4,
 "nbformat_minor": 0
}
