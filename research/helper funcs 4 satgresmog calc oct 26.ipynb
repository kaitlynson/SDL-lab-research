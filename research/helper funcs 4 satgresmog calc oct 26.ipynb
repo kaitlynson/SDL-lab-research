{
 "cells": [
  {
   "cell_type": "code",
   "execution_count": 1,
   "metadata": {
    "collapsed": true
   },
   "outputs": [],
   "source": [
    "from nltk.stem.snowball import SnowballStemmer\n"
   ]
  },
  {
   "cell_type": "code",
   "execution_count": 2,
   "metadata": {
    "collapsed": false
   },
   "outputs": [],
   "source": [
    "stemmer = SnowballStemmer(\"english\")\n"
   ]
  },
  {
   "cell_type": "code",
   "execution_count": 3,
   "metadata": {
    "collapsed": false
   },
   "outputs": [
    {
     "name": "stdout",
     "output_type": "stream",
     "text": [
      "run\n"
     ]
    }
   ],
   "source": [
    "print(stemmer.stem(\"running\"))"
   ]
  },
  {
   "cell_type": "code",
   "execution_count": 4,
   "metadata": {
    "collapsed": false
   },
   "outputs": [
    {
     "data": {
      "text/plain": [
       "u'hello'"
      ]
     },
     "execution_count": 4,
     "metadata": {},
     "output_type": "execute_result"
    }
   ],
   "source": [
    "stemmer.stem(\"hello\")"
   ]
  },
  {
   "cell_type": "code",
   "execution_count": 5,
   "metadata": {
    "collapsed": false
   },
   "outputs": [
    {
     "data": {
      "text/plain": [
       "u'run'"
      ]
     },
     "execution_count": 5,
     "metadata": {},
     "output_type": "execute_result"
    }
   ],
   "source": [
    "stemmer.stem(\"running\")"
   ]
  },
  {
   "cell_type": "code",
   "execution_count": 6,
   "metadata": {
    "collapsed": true
   },
   "outputs": [],
   "source": [
    "def stem_remover(word_list):\n",
    "    new_list = []\n",
    "    stemmer = SnowballStemmer(\"english\")\n",
    "    for word in word_list:\n",
    "        new_word = stemmer.stem(word)\n",
    "        new_list.append(new_word)\n",
    "    return new_list"
   ]
  },
  {
   "cell_type": "code",
   "execution_count": 10,
   "metadata": {
    "collapsed": false
   },
   "outputs": [
    {
     "name": "stdout",
     "output_type": "stream",
     "text": [
      "[u'hello', u'mayb', u'kaitlyn', u'running.', u'123', u'kdgfsy+_?37147']\n"
     ]
    }
   ],
   "source": [
    "l = [\"hello\", \"maybe\", \"Kaitlyn\", \"running.\",\"123\" ,\"kdgfsy+_?37147\"]\n",
    "\n",
    "print stem_remover(l)"
   ]
  },
  {
   "cell_type": "code",
   "execution_count": 8,
   "metadata": {
    "collapsed": false
   },
   "outputs": [
    {
     "name": "stdout",
     "output_type": "stream",
     "text": [
      "[u'hello']\n",
      "[u'mayb']\n",
      "[u'kaitlyn']\n",
      "[u'running89...']\n",
      "[u'123']\n",
      "[u'kdgfsy+_?37147']\n"
     ]
    }
   ],
   "source": [
    "for word in l:\n",
    "    new_list = []\n",
    "    new_word = stemmer.stem(word)\n",
    "    new_list.append(new_word)\n",
    "    print new_list\n",
    "    ## this prints hell mayb kaitlyn --- whyd it take away the e ? lol\n"
   ]
  },
  {
   "cell_type": "code",
   "execution_count": 102,
   "metadata": {
    "collapsed": false
   },
   "outputs": [],
   "source": [
    "# lower\n",
    "def lower_list(word_list):\n",
    "    new_list = []\n",
    "    for word in word_list:\n",
    "        new_list.append(word.lower())\n",
    "    return new_list"
   ]
  },
  {
   "cell_type": "code",
   "execution_count": 103,
   "metadata": {
    "collapsed": false
   },
   "outputs": [],
   "source": [
    "# strip\n",
    "def strip_list(word_list):\n",
    "    new_list = []\n",
    "    for word in word_list:\n",
    "        new_list.append(word.strip())\n",
    "    return new_list\n",
    "\n",
    "\n",
    "### strips numbers puncuation and etc "
   ]
  },
  {
   "cell_type": "code",
   "execution_count": 104,
   "metadata": {
    "collapsed": true
   },
   "outputs": [],
   "source": [
    "# clean\n",
    "def clean_list(word_list):\n",
    "    new = lower_list(word_list)\n",
    "    new_new = strip_list(word_list)\n",
    "    return new_new\n",
    "    "
   ]
  },
  {
   "cell_type": "code",
   "execution_count": 105,
   "metadata": {
    "collapsed": false
   },
   "outputs": [
    {
     "name": "stdout",
     "output_type": "stream",
     "text": [
      "['hello', 'maybe', 'Kaitlyn', 'running', '123', 'kdgfsy+_?37147']\n"
     ]
    }
   ],
   "source": [
    "print clean_list(l) ## gives me none...why...."
   ]
  },
  {
   "cell_type": "code",
   "execution_count": null,
   "metadata": {
    "collapsed": true
   },
   "outputs": [],
   "source": []
  },
  {
   "cell_type": "code",
   "execution_count": null,
   "metadata": {
    "collapsed": true
   },
   "outputs": [],
   "source": []
  },
  {
   "cell_type": "code",
   "execution_count": null,
   "metadata": {
    "collapsed": true
   },
   "outputs": [],
   "source": []
  }
 ],
 "metadata": {
  "kernelspec": {
   "display_name": "Python 2",
   "language": "python",
   "name": "python2"
  },
  "language_info": {
   "codemirror_mode": {
    "name": "ipython",
    "version": 2
   },
   "file_extension": ".py",
   "mimetype": "text/x-python",
   "name": "python",
   "nbconvert_exporter": "python",
   "pygments_lexer": "ipython2",
   "version": "2.7.11"
  }
 },
 "nbformat": 4,
 "nbformat_minor": 0
}
