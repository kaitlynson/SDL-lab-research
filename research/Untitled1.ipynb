{
 "cells": [
  {
   "cell_type": "code",
   "execution_count": null,
   "metadata": {
    "collapsed": true
   },
   "outputs": [],
   "source": [
    "\n",
    "    sat_words = set(create_sat_list())\n",
    "    gre_words = set(create_gre_list())\n",
    "\n",
    "    dict_of_word_sets = {\"sat\":sat_words, \"gre\" : gre_words}\n",
    "    print(\"done loading word list\")\n",
    "\n",
    "    in_file_name = \"/Users/sports195admin/Downloads/success_timelines_00000.json.bz2\"\n",
    "    out_file_name = \"/Users/sports195admin/Downloads/user_scores_00000.json.bz2\"\n",
    "\n",
    "    with bz2.BZ2File(in_file_name) as infile, bz2.BZ2File(out_file_name, 'w') as outfile:\n",
    "        list_of_sat_nums = []   \n",
    "        list_of_sat_percents = []\n",
    "        list_of_gre_nums = []\n",
    "        list_of_gre_percents = []\n",
    "\n",
    "        print(\"beginning loading in text\")\n",
    "        for line in infile: \n",
    "\n",
    "            first_tab = line.index(\"\\t\") # location of first tab char\n",
    "            first_tab\n",
    "            id = line[:first_tab]\n",
    "\n",
    "            timeline = json.loads(line[first_tab:]) # creates a dict\n",
    "\n",
    "            user_id = timeline[u'user'][0][\"id_str\"] # gets user id as string\n",
    "\n",
    "            list_tweets = [x['text'] for x in timeline[u'tweets']] # makes all the user's tweets into a list      \n",
    "            print(\"got tweet list\")\n",
    "            smog_score = compute_smog_score(list_tweets) #computes the user's smog score and stores it in this var\n",
    "            print(\"finished smog score\")\n",
    "            usable_sample = \"\"\n",
    "        \n",
    "            for tweet in list_tweets:\n",
    "                usable_sample += remove_punct(tweet.lower()) # removes all punct and makes evrything lower\n",
    "            print(\"merged clean tweets\")\n",
    "            list_words = usable_sample.split()\n",
    "            \n",
    "            stripped_list_words = strip_list(list_words)\n",
    "            \n",
    "            clean_words = stem_remover(stripped_list_words)\n",
    "            \n",
    "            word_count_scores = word_match_counter(clean_words, dict_of_word_sets)\n",
    "            \n",
    "            tdict = coll.OrderedDict() \n",
    "            tdict[\"uid\"] = user_id\n",
    "            tdict[\"smog\"] = smog_score\n",
    "            tdict[\"sat\"] = word_count_scores[\"sat\"]\n",
    "            tdict[\"gre\"] = word_count_scores[\"gre\"]\n",
    "\n",
    "            outfile.write(json.dumps(tdict)+'\\n')\n",
    "\n",
    "            print(tdict)\n",
    "            break\n",
    "        "
   ]
  }
 ],
 "metadata": {
  "kernelspec": {
   "display_name": "Python 2",
   "language": "python",
   "name": "python2"
  },
  "language_info": {
   "codemirror_mode": {
    "name": "ipython",
    "version": 2
   },
   "file_extension": ".py",
   "mimetype": "text/x-python",
   "name": "python",
   "nbconvert_exporter": "python",
   "pygments_lexer": "ipython2",
   "version": "2.7.11"
  }
 },
 "nbformat": 4,
 "nbformat_minor": 0
}
