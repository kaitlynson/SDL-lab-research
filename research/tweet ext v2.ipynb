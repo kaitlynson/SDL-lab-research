{
 "cells": [
  {
   "cell_type": "code",
   "execution_count": 20,
   "metadata": {
    "collapsed": true
   },
   "outputs": [],
   "source": [
    "\n",
    "import json\n",
    "import io # use io.open for outfile or use bz file \n",
    "import bz2\n",
    "import collections as coll\n",
    "import nltk\n",
    "from nltk.corpus import cmudict\n",
    "import string\n",
    "import math\n",
    "import numpy as np\n",
    "import pandas as pd\n",
    "import matplotlib.pyplot as plt"
   ]
  },
  {
   "cell_type": "code",
   "execution_count": 21,
   "metadata": {
    "collapsed": false
   },
   "outputs": [],
   "source": [
    "\n",
    "\n",
    "in_file_name = \"/Users/sports195admin/Downloads/success_timelines_00000.json.bz2\"\n",
    "out_file_name = \"/Users/sports195admin/Downloads/tweets_00000.json.bz2\"\n",
    "\n",
    "with bz2.BZ2File(in_file_name) as infile, bz2.BZ2File(out_file_name, 'w') as outfile:\n",
    "\n",
    "\tfor line in infile: \n",
    "\n",
    "\t\tfirst_tab = line.index(\"\\t\") # location of first tab char\n",
    "\t\tfirst_tab\n",
    "\t\tid = line[:first_tab]\n",
    "\t\tid #users id\n",
    "\n",
    "\t\ttweets = json.loads(line[first_tab:]) # creates a dict\n",
    "\n",
    "\t\tuser_id = tweets[u'user'][0][\"id_str\"] # gets user id as string\n",
    "\n",
    "\t\tlist_propics = [x['profile_image_url'] for x in tweets[u'user']]\n",
    "\n",
    "\t\tlist_desc = [x['description'] for x in tweets[u'user']]\n",
    "\n",
    "\t\tlist_tweets = [x['text'] for x in tweets[u'tweets']] # makes all the user's tweets into a list\n",
    "\n",
    "\t\ttdict = coll.OrderedDict() \n",
    "\t\ttdict[\"uid\"] = user_id\n",
    "\t\ttdict[\"descriptions\"] = list_desc\n",
    "\t\ttdict[\"texts\"] = list_tweets\n",
    "\t\ttdict[\"pics\"] = list_propics\n",
    "\n",
    "\t\t# use json lib to turn dict into json dict/list/string\n",
    "\n",
    "\t\toutfile.write(json.dumps(tdict)+'\\n')\n",
    "\n"
   ]
  },
  {
   "cell_type": "code",
   "execution_count": 22,
   "metadata": {
    "collapsed": false
   },
   "outputs": [
    {
     "ename": "NameError",
     "evalue": "global name 'sentence' is not defined",
     "output_type": "error",
     "traceback": [
      "\u001b[0;31m---------------------------------------------------------------------------\u001b[0m",
      "\u001b[0;31mNameError\u001b[0m                                 Traceback (most recent call last)",
      "\u001b[0;32m<ipython-input-22-04e4eeb1f6dc>\u001b[0m in \u001b[0;36m<module>\u001b[0;34m()\u001b[0m\n\u001b[1;32m      7\u001b[0m         \u001b[0muser_dict\u001b[0m \u001b[0;34m=\u001b[0m \u001b[0mjson\u001b[0m\u001b[0;34m.\u001b[0m\u001b[0mloads\u001b[0m\u001b[0;34m(\u001b[0m\u001b[0mline\u001b[0m\u001b[0;34m)\u001b[0m\u001b[0;34m\u001b[0m\u001b[0m\n\u001b[1;32m      8\u001b[0m         \u001b[0mlist_tweets\u001b[0m \u001b[0;34m=\u001b[0m \u001b[0muser_dict\u001b[0m\u001b[0;34m[\u001b[0m\u001b[0;34m\"texts\"\u001b[0m\u001b[0;34m]\u001b[0m\u001b[0;34m\u001b[0m\u001b[0m\n\u001b[0;32m----> 9\u001b[0;31m         \u001b[0mlist_smogs\u001b[0m\u001b[0;34m.\u001b[0m\u001b[0mappend\u001b[0m\u001b[0;34m(\u001b[0m\u001b[0mcompute_smog_score\u001b[0m\u001b[0;34m(\u001b[0m\u001b[0mlist_tweets\u001b[0m\u001b[0;34m)\u001b[0m\u001b[0;34m)\u001b[0m\u001b[0;34m\u001b[0m\u001b[0m\n\u001b[0m\u001b[1;32m     10\u001b[0m \u001b[0;32mprint\u001b[0m \u001b[0mnp\u001b[0m\u001b[0;34m.\u001b[0m\u001b[0mmean\u001b[0m\u001b[0;34m(\u001b[0m\u001b[0mlist_smogs\u001b[0m\u001b[0;34m)\u001b[0m\u001b[0;34m\u001b[0m\u001b[0m\n\u001b[1;32m     11\u001b[0m \u001b[0;32mprint\u001b[0m \u001b[0mnp\u001b[0m\u001b[0;34m.\u001b[0m\u001b[0mstd\u001b[0m\u001b[0;34m(\u001b[0m\u001b[0mlist_smogs\u001b[0m\u001b[0;34m)\u001b[0m\u001b[0;34m\u001b[0m\u001b[0m\n",
      "\u001b[0;32m<ipython-input-14-fcdd1148c593>\u001b[0m in \u001b[0;36mcompute_smog_score\u001b[0;34m(list_tweets)\u001b[0m\n\u001b[1;32m      7\u001b[0m \u001b[0;34m\u001b[0m\u001b[0m\n\u001b[1;32m      8\u001b[0m     \u001b[0;32mfor\u001b[0m \u001b[0mtweet\u001b[0m \u001b[0;32min\u001b[0m \u001b[0mlist_tweets\u001b[0m\u001b[0;34m:\u001b[0m\u001b[0;34m\u001b[0m\u001b[0m\n\u001b[0;32m----> 9\u001b[0;31m         \u001b[0mtotal_num_sentences\u001b[0m \u001b[0;34m+=\u001b[0m \u001b[0mcount_sents\u001b[0m\u001b[0;34m(\u001b[0m\u001b[0msentence\u001b[0m\u001b[0;34m)\u001b[0m\u001b[0;34m\u001b[0m\u001b[0m\n\u001b[0m\u001b[1;32m     10\u001b[0m         \u001b[0mtot_num_pollys\u001b[0m \u001b[0;34m+=\u001b[0m \u001b[0mcount_poly_syllables\u001b[0m\u001b[0;34m(\u001b[0m\u001b[0mtweet\u001b[0m\u001b[0;34m)\u001b[0m\u001b[0;34m\u001b[0m\u001b[0m\n\u001b[1;32m     11\u001b[0m \u001b[0;34m\u001b[0m\u001b[0m\n",
      "\u001b[0;31mNameError\u001b[0m: global name 'sentence' is not defined"
     ]
    }
   ],
   "source": [
    "## get rid of tabs\n",
    "list_smogs = []\n",
    "\n",
    "new_in_file_name = \"/Users/sports195admin/Downloads/tweets_00000.json.bz2\"\n",
    "with bz2.BZ2File(new_in_file_name) as infile:\n",
    "    for i, line in enumerate(infile):\n",
    "        user_dict = json.loads(line)\n",
    "        list_tweets = user_dict[\"texts\"]\n",
    "        list_smogs.append(compute_smog_score(list_tweets))\n",
    "print np.mean(list_smogs)\n",
    "print np.std(list_smogs)"
   ]
  },
  {
   "cell_type": "code",
   "execution_count": null,
   "metadata": {
    "collapsed": false
   },
   "outputs": [],
   "source": [
    "list_smogs_s = pd.Series(list_smogs)\n",
    "print list_smogs_s.max()\n",
    "print list_smogs_s.min()\n",
    "print list_smogs_s.mean()\n",
    "print list_smogs_s.std()\n",
    "\n",
    "\n",
    "\n",
    "print len(list_smogs)"
   ]
  },
  {
   "cell_type": "code",
   "execution_count": null,
   "metadata": {
    "collapsed": false
   },
   "outputs": [],
   "source": [
    "df4 = DataFrame({'a': randn(1000) + 1, 'b': randn(1000),\n",
    "'c': randn(1000) - 1}, columns=['a', 'b', 'c']\n",
    "plt.figure();\n",
    "df4.plot(kind='hist', alpha=0.5)"
   ]
  },
  {
   "cell_type": "code",
   "execution_count": null,
   "metadata": {
    "collapsed": false
   },
   "outputs": [],
   "source": [
    "user_dict.keys()"
   ]
  },
  {
   "cell_type": "code",
   "execution_count": null,
   "metadata": {
    "collapsed": false
   },
   "outputs": [],
   "source": [
    "list_tweets"
   ]
  },
  {
   "cell_type": "code",
   "execution_count": null,
   "metadata": {
    "collapsed": false
   },
   "outputs": [],
   "source": [
    "total_num_words = 0\n",
    "syllable_dict = cmudict.dict()"
   ]
  },
  {
   "cell_type": "code",
   "execution_count": null,
   "metadata": {
    "collapsed": false
   },
   "outputs": [],
   "source": [
    "def is_three_plus_syllables(word):\n",
    "    x = syllable_dict.get(word.lower())\n",
    "    if x is None:\n",
    "        return False\n",
    "    return len([y for y in x[0] if y[-1].isdigit()]) >= 3\n",
    "\n",
    "    if len([y for y in x[0] if y[-1].isdigit()]) <= 3:\n",
    "        return False\n",
    "    else:\n",
    "        return True"
   ]
  },
  {
   "cell_type": "code",
   "execution_count": null,
   "metadata": {
    "collapsed": false
   },
   "outputs": [],
   "source": [
    "def count_poly_syllables(sentence):\n",
    "    words = sentence.split()\n",
    "    return sum(is_three_plus_syllables(word) for word in words)"
   ]
  },
  {
   "cell_type": "code",
   "execution_count": null,
   "metadata": {
    "collapsed": false
   },
   "outputs": [],
   "source": [
    "def count_sents(sentence):\n",
    "    return len([''.join(y) for v,y in itr.groupby(test_tweet, lambda x: x not in '.!?') if v])"
   ]
  },
  {
   "cell_type": "code",
   "execution_count": null,
   "metadata": {
    "collapsed": false
   },
   "outputs": [],
   "source": []
  },
  {
   "cell_type": "code",
   "execution_count": null,
   "metadata": {
    "collapsed": false
   },
   "outputs": [],
   "source": []
  },
  {
   "cell_type": "code",
   "execution_count": null,
   "metadata": {
    "collapsed": false
   },
   "outputs": [],
   "source": [
    "def compute_smog_score(list_tweets):\n",
    "    \n",
    "    #num_of_usable_words = 0\n",
    "    grade = 0\n",
    "    tot_num_pollys = 0\n",
    "    total_num_sentences = 0\n",
    "\n",
    "    for tweet in list_tweets:\n",
    "        total_num_sentences += count_sents(sentence)\n",
    "        tot_num_pollys += count_poly_syllables(tweet)\n",
    "\n",
    "    if total_num_sentences <30: \n",
    "        print \"too few tweets\"\n",
    "        return None\n",
    "\n",
    "    else:\n",
    "        grade = 1.0430*(math.sqrt(tot_num_pollys*(30.0/total_num_sentences))) + 3.1291\n",
    "        return grade"
   ]
  },
  {
   "cell_type": "code",
   "execution_count": null,
   "metadata": {
    "collapsed": true
   },
   "outputs": [],
   "source": []
  },
  {
   "cell_type": "code",
   "execution_count": null,
   "metadata": {
    "collapsed": false
   },
   "outputs": [],
   "source": []
  },
  {
   "cell_type": "code",
   "execution_count": null,
   "metadata": {
    "collapsed": false
   },
   "outputs": [],
   "source": [
    "x.strip().split()"
   ]
  },
  {
   "cell_type": "code",
   "execution_count": null,
   "metadata": {
    "collapsed": false
   },
   "outputs": [],
   "source": [
    "x"
   ]
  },
  {
   "cell_type": "code",
   "execution_count": null,
   "metadata": {
    "collapsed": false
   },
   "outputs": [],
   "source": [
    "\"_\".join(x.split())\n"
   ]
  },
  {
   "cell_type": "code",
   "execution_count": null,
   "metadata": {
    "collapsed": false
   },
   "outputs": [],
   "source": [
    "table = string.maketrans(\"\",\"\")\n",
    "def test_trans(x):\n",
    "    return x.translate(table, string.punctuation)"
   ]
  },
  {
   "cell_type": "code",
   "execution_count": null,
   "metadata": {
    "collapsed": false
   },
   "outputs": [],
   "source": [
    "test_trans(x)\n"
   ]
  },
  {
   "cell_type": "code",
   "execution_count": null,
   "metadata": {
    "collapsed": false
   },
   "outputs": [],
   "source": [
    "? translate"
   ]
  },
  {
   "cell_type": "code",
   "execution_count": null,
   "metadata": {
    "collapsed": false
   },
   "outputs": [],
   "source": [
    "help(translate)"
   ]
  },
  {
   "cell_type": "code",
   "execution_count": null,
   "metadata": {
    "collapsed": true
   },
   "outputs": [],
   "source": [
    "? x.translate\n"
   ]
  },
  {
   "cell_type": "code",
   "execution_count": null,
   "metadata": {
    "collapsed": true
   },
   "outputs": [],
   "source": [
    "# function that takes a sentence then takes off the punctuation and numbers \n",
    "# translate then split or transalte on every split\n",
    "# figure out what symbols can be use to make sentence .?!"
   ]
  },
  {
   "cell_type": "code",
   "execution_count": null,
   "metadata": {
    "collapsed": false
   },
   "outputs": [],
   "source": [
    "trans_table = dict(zip((ord(x) for x in unicode(string.punctuation)),[u'']*len(string.punctuation)))\n",
    "\n",
    "u'daflka&&@123w2>>>1212....'.translate(trans_table)\n",
    "\n",
    "to_remove = string.digits + string.punctuation"
   ]
  },
  {
   "cell_type": "code",
   "execution_count": null,
   "metadata": {
    "collapsed": true
   },
   "outputs": [],
   "source": [
    "test_tweet = \"lol my boyfriend lives here&amp; he has a bett.er job than I did.!? I hate Long Island anyway lol\""
   ]
  },
  {
   "cell_type": "code",
   "execution_count": null,
   "metadata": {
    "collapsed": false
   },
   "outputs": [],
   "source": [
    "test_tweet.split(\".\")"
   ]
  },
  {
   "cell_type": "code",
   "execution_count": null,
   "metadata": {
    "collapsed": true
   },
   "outputs": [],
   "source": [
    "import itertools as itr"
   ]
  },
  {
   "cell_type": "code",
   "execution_count": null,
   "metadata": {
    "collapsed": false
   },
   "outputs": [],
   "source": [
    "[''.join(y) for v,y in itr.groupby(test_tweet, lambda x: x not in '.!?') if v]"
   ]
  },
  {
   "cell_type": "code",
   "execution_count": null,
   "metadata": {
    "collapsed": false
   },
   "outputs": [],
   "source": [
    "\n",
    "\n"
   ]
  },
  {
   "cell_type": "code",
   "execution_count": null,
   "metadata": {
    "collapsed": true
   },
   "outputs": [],
   "source": [
    "def is_not_break(x):\n",
    "    return x not in '.!?'"
   ]
  },
  {
   "cell_type": "code",
   "execution_count": null,
   "metadata": {
    "collapsed": false
   },
   "outputs": [],
   "source": [
    "tweet_list = ['foobar', \"foobar. bazz\"]\n",
    "sent_count = 0\n",
    "\n",
    "for tweet in tweet_list:\n",
    "    sent_list = [''.join(y) for v,y in itr.groupby(tweet, is_not_break) if v]\n",
    "    for sent in sent_list:\n",
    "        sent_count += 1\n",
    "        print(sent)\n",
    "\n",
    "print(sent_count)"
   ]
  },
  {
   "cell_type": "code",
   "execution_count": null,
   "metadata": {
    "collapsed": false
   },
   "outputs": [],
   "source": [
    "zip((ord(x) for x in unicode(string.punctuation)),[u''])"
   ]
  },
  {
   "cell_type": "code",
   "execution_count": null,
   "metadata": {
    "collapsed": false
   },
   "outputs": [],
   "source": [
    "zip(range(10), range(100,110))"
   ]
  },
  {
   "cell_type": "code",
   "execution_count": null,
   "metadata": {
    "collapsed": false
   },
   "outputs": [],
   "source": [
    "string.punctuation"
   ]
  },
  {
   "cell_type": "code",
   "execution_count": null,
   "metadata": {
    "collapsed": false
   },
   "outputs": [],
   "source": [
    "unicode(string.punctuation)"
   ]
  },
  {
   "cell_type": "code",
   "execution_count": 255,
   "metadata": {
    "collapsed": false
   },
   "outputs": [
    {
     "data": {
      "text/plain": [
       "[33,\n",
       " 34,\n",
       " 35,\n",
       " 36,\n",
       " 37,\n",
       " 38,\n",
       " 39,\n",
       " 40,\n",
       " 41,\n",
       " 42,\n",
       " 43,\n",
       " 44,\n",
       " 45,\n",
       " 46,\n",
       " 47,\n",
       " 58,\n",
       " 59,\n",
       " 60,\n",
       " 61,\n",
       " 62,\n",
       " 63,\n",
       " 64,\n",
       " 91,\n",
       " 92,\n",
       " 93,\n",
       " 94,\n",
       " 95,\n",
       " 96,\n",
       " 123,\n",
       " 124,\n",
       " 125,\n",
       " 126]"
      ]
     },
     "execution_count": 255,
     "metadata": {},
     "output_type": "execute_result"
    }
   ],
   "source": [
    "[ord(x) for x in unicode(string.punctuation)]"
   ]
  },
  {
   "cell_type": "code",
   "execution_count": 256,
   "metadata": {
    "collapsed": false
   },
   "outputs": [
    {
     "data": {
      "text/plain": [
       "[(0, u''),\n",
       " (1, u''),\n",
       " (2, u''),\n",
       " (3, u''),\n",
       " (4, u''),\n",
       " (5, u''),\n",
       " (6, u''),\n",
       " (7, u''),\n",
       " (8, u''),\n",
       " (9, u'')]"
      ]
     },
     "execution_count": 256,
     "metadata": {},
     "output_type": "execute_result"
    }
   ],
   "source": [
    "zip(range(10),itr.repeat(u''))"
   ]
  },
  {
   "cell_type": "code",
   "execution_count": 257,
   "metadata": {
    "collapsed": false
   },
   "outputs": [
    {
     "name": "stdout",
     "output_type": "stream",
     "text": [
      "2\n"
     ]
    },
    {
     "data": {
      "text/plain": [
       "[[[u'S', u'M', u'AA1', u'G']],\n",
       " [[u'K', u'AH0', u'N', u'V', u'ER1', u'ZH', u'AH0', u'N']],\n",
       " [[u'T', u'EY1', u'B', u'AH0', u'L', u'Z']],\n",
       " [[u'K', u'AH0', u'M', u'P', u'AY1', u'L', u'D']],\n",
       " [[u'AA1', u'R'], [u'ER0']],\n",
       " [[u'S', u'L', u'AY1', u'T', u'L', u'IY0']],\n",
       " [[u'IH0', u'N', u'AE1', u'K', u'Y', u'ER0', u'AH0', u'T']]]"
      ]
     },
     "execution_count": 257,
     "metadata": {},
     "output_type": "execute_result"
    }
   ],
   "source": [
    "sentence = \"SMOG conversion tables compiled are slightly inaccurate\"\n",
    "print(count_poly_syllables(sentence))\n",
    "[syllable_dict.get(word.lower()) for word in sentence.split()]"
   ]
  },
  {
   "cell_type": "code",
   "execution_count": null,
   "metadata": {
    "collapsed": true
   },
   "outputs": [],
   "source": [
    "def is_not_break(x):\n",
    "    return x not in '.!?'\n",
    "\n",
    "def count_sylls(sentence):\n",
    "    sent_count = 0\n",
    "\n",
    "    for tweet in tweet_list:\n",
    "        sent_list = [''.join(y) for v,y in itr.groupby(tweet, is_not_break) if v]\n",
    "        for sent in sent_list:\n",
    "            sent_count += 1\n",
    "    return(sent_count)"
   ]
  },
  {
   "cell_type": "code",
   "execution_count": 23,
   "metadata": {
    "collapsed": false
   },
   "outputs": [
    {
     "ename": "NameError",
     "evalue": "name 'list_smog_s' is not defined",
     "output_type": "error",
     "traceback": [
      "\u001b[0;31m---------------------------------------------------------------------------\u001b[0m",
      "\u001b[0;31mNameError\u001b[0m                                 Traceback (most recent call last)",
      "\u001b[0;32m<ipython-input-23-de8ea75f60e5>\u001b[0m in \u001b[0;36m<module>\u001b[0;34m()\u001b[0m\n\u001b[1;32m      4\u001b[0m \u001b[0mpy\u001b[0m\u001b[0;34m.\u001b[0m\u001b[0msign_in\u001b[0m\u001b[0;34m(\u001b[0m\u001b[0;34m'ks772'\u001b[0m\u001b[0;34m,\u001b[0m \u001b[0;34m'd7m6obvwbd'\u001b[0m\u001b[0;34m)\u001b[0m\u001b[0;34m\u001b[0m\u001b[0m\n\u001b[1;32m      5\u001b[0m \u001b[0;34m\u001b[0m\u001b[0m\n\u001b[0;32m----> 6\u001b[0;31m \u001b[0mplt\u001b[0m\u001b[0;34m.\u001b[0m\u001b[0mhist\u001b[0m\u001b[0;34m(\u001b[0m\u001b[0mlist_smog_s\u001b[0m\u001b[0;34m)\u001b[0m \u001b[0;31m#\u001b[0m\u001b[0;34m\u001b[0m\u001b[0m\n\u001b[0m\u001b[1;32m      7\u001b[0m \u001b[0mplt\u001b[0m\u001b[0;34m.\u001b[0m\u001b[0mtitle\u001b[0m\u001b[0;34m(\u001b[0m\u001b[0;34m\"Smog Scores\"\u001b[0m\u001b[0;34m)\u001b[0m\u001b[0;34m\u001b[0m\u001b[0m\n\u001b[1;32m      8\u001b[0m \u001b[0mplt\u001b[0m\u001b[0;34m.\u001b[0m\u001b[0mxlabel\u001b[0m\u001b[0;34m(\u001b[0m\u001b[0;34m\"Score\"\u001b[0m\u001b[0;34m)\u001b[0m\u001b[0;34m\u001b[0m\u001b[0m\n",
      "\u001b[0;31mNameError\u001b[0m: name 'list_smog_s' is not defined"
     ]
    }
   ],
   "source": [
    "import matplotlib.pyplot as plt\n",
    "import numpy as np\n",
    "import plotly.plotly as py\n",
    "py.sign_in('ks772', 'd7m6obvwbd')\n",
    "\n",
    "plt.hist(list_smog_s) #\n",
    "plt.title(\"Smog Scores\")\n",
    "plt.xlabel(\"Score\")\n",
    "plt.ylabel(\"Frequency\")\n",
    "\n",
    "fig = plt.gcf()\n",
    "\n",
    "plot_url = py.plot_mpl(fig, filename='mpl-basic-histogram')"
   ]
  },
  {
   "cell_type": "code",
   "execution_count": null,
   "metadata": {
    "collapsed": true
   },
   "outputs": [],
   "source": []
  },
  {
   "cell_type": "code",
   "execution_count": null,
   "metadata": {
    "collapsed": true
   },
   "outputs": [],
   "source": []
  },
  {
   "cell_type": "code",
   "execution_count": null,
   "metadata": {
    "collapsed": true
   },
   "outputs": [],
   "source": []
  }
 ],
 "metadata": {
  "kernelspec": {
   "display_name": "Python 2",
   "language": "python",
   "name": "python2"
  },
  "language_info": {
   "codemirror_mode": {
    "name": "ipython",
    "version": 2
   },
   "file_extension": ".py",
   "mimetype": "text/x-python",
   "name": "python",
   "nbconvert_exporter": "python",
   "pygments_lexer": "ipython2",
   "version": "2.7.11"
  }
 },
 "nbformat": 4,
 "nbformat_minor": 0
}
