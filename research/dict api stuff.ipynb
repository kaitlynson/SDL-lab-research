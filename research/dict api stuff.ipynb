{
 "cells": [
  {
   "cell_type": "code",
   "execution_count": 1,
   "metadata": {
    "collapsed": true
   },
   "outputs": [],
   "source": [
    "HTML_text = \"\"\"\n",
    "\n",
    "{\n",
    "    \"topics\": [],\n",
    "    \"dictionaryCode\": \"english\",\n",
    "    \"entryLabel\": \"abase\",\n",
    "    \"entryContent\": \"<div class=\\\"entry_container\\\">\n",
    "<div class=\\\"entry lang_en-gb\\\" id=\\\"abase_1\\\">\n",
    "<span class=\\\"inline\\\">\n",
    "<h1 class=\\\"hwd\\\">abase</h1>\n",
    "<span> (</span>\n",
    "<span class=\\\"pron\\\" type=\\\"\\\">əˈbeɪs<a href=\\\"#\\\" class=\\\"playback\\\">\n",
    "<img src=\\\"https://api.collinsdictionary.com/external/images/redspeaker.gif?version=2016-11-09-0913\\\" alt=\\\"Pronunciation for abase\\\" class=\\\"sound\\\" title=\\\"Pronunciation for abase\\\" style=\\\"cursor: pointer\\\"/>\n",
    "</a>\n",
    "<audio type=\\\"pronunciation\\\" title=\\\"abase\\\">\n",
    "<source type=\\\"audio/mpeg\\\" src=\\\"https://api.collinsdictionary.com/media/sounds/sounds/e/en_/en_gb/en_gb_a0000007.mp3\\\"/>Your browser does not support HTML5 audio.</audio>\n",
    "</span>\n",
    "<span>)</span>\n",
    "</span>\n",
    "<div class=\\\"hom\\\" id=\\\"abase_1.1\\\">\n",
    "<span class=\\\"gramGrp\\\">\n",
    "<span>   </span>\n",
    "<span class=\\\"pos\\\">verb</span>\n",
    "<span class=\\\"subc\\\">\n",
    "<span> </span>\n",
    "<span>(</span>transitive<span>)</span>\n",
    "</span>\n",
    "</span>\n",
    "<div class=\\\"sense\\\">\n",
    "<span class=\\\"sensenum\\\">     1 </span>\n",
    "<span class=\\\"def\\\">to humble or belittle (oneself, etc)</span>\n",
    "</div>\n",
    "<!-- End of DIV sense-->\n",
    "<div class=\\\"sense\\\">\n",
    "<span class=\\\"sensenum\\\">     2 </span>\n",
    "<span class=\\\"def\\\">to lower or reduce, as in rank or estimation</span>\n",
    "</div>\n",
    "<!-- End of DIV sense-->\n",
    "</div>\n",
    "<!-- End of DIV hom-->\n",
    "<div class=\\\"etym\\\">\n",
    "<span>   [</span>C15: <em class=\\\"hi\\\">abessen,</em> from Old French <em class=\\\"hi\\\">abaissier</em> to make low. See <em class=\\\"hi\\\">base</em>\n",
    "<sup class=\\\"hi\\\">2</sup>\n",
    "<span>]</span>\n",
    "</div>\n",
    "<!-- End of DIV etym-->\n",
    "<span class=\\\"re\\\" id=\\\"abase_1.2\\\">\n",
    "<span> <br/>&gt; </span>\n",
    "<span class=\\\"inline\\\">\n",
    "<span class=\\\"orth\\\">aˈbasement</span>\n",
    "</span>\n",
    "<div class=\\\"hom\\\" id=\\\"abase_1.3\\\">\n",
    "<span class=\\\"gramGrp\\\">\n",
    "<span> </span>\n",
    "<span class=\\\"pos\\\">noun</span>\n",
    "</span>\n",
    "</div>\n",
    "<!-- End of DIV hom-->\n",
    "</span>\n",
    "</div>\n",
    "<!-- End of DIV entry lang_en-gb-->\n",
    "</div>\n",
    "<!-- End of DIV entry_container-->\\n\",\n",
    "    \"entryUrl\": \"http://api.collinsdictionary.com/api/v1/dictionaries/english/entries/abase_1\",\n",
    "    \"format\": \"html\",\n",
    "    \"entryId\": \"abase_1\"\n",
    "}\n",
    "\"\"\""
   ]
  },
  {
   "cell_type": "code",
   "execution_count": 2,
   "metadata": {
    "collapsed": false
   },
   "outputs": [
    {
     "data": {
      "text/plain": [
       "[<span class=\"orth\">a\\u02c8basement</span>]"
      ]
     },
     "execution_count": 2,
     "metadata": {},
     "output_type": "execute_result"
    }
   ],
   "source": [
    "from bs4 import BeautifulSoup\n",
    "soup = BeautifulSoup(HTML_text, 'html.parser')\n",
    "\n",
    "#print(soup.prettify())\n",
    "soup.find_all(\"span\", class_=\"orth\")"
   ]
  },
  {
   "cell_type": "code",
   "execution_count": 3,
   "metadata": {
    "collapsed": true
   },
   "outputs": [],
   "source": [
    "#api key: MwZsuniEsBfMotd0DHZ7yhL56pKzDuWBBGTiRsxuKK9Hzw9aWcpBaRZwCeV84T0x\n",
    "#dict is english\n",
    "#entry id is ache_1\n",
    "# 2 forms - aching and achingly\n"
   ]
  },
  {
   "cell_type": "code",
   "execution_count": 5,
   "metadata": {
    "collapsed": true
   },
   "outputs": [],
   "source": [
    "HTML_text2 = \"\"\"\n",
    "{\n",
    "    \"topics\": [],\n",
    "    \"dictionaryCode\": \"english\",\n",
    "    \"entryContent\": \"<div class=\\\"entry_container\\\">\n",
    "<div class=\\\"entry lang_en-gb\\\" id=\\\"ache_1\\\">\n",
    "<span class=\\\"inline\\\">\n",
    "<h1 class=\\\"hwd\\\">ache</h1>\n",
    "<span> (</span>\n",
    "<span class=\\\"pron\\\" type=\\\"\\\">eɪk<a href=\\\"#\\\" class=\\\"playback\\\">\n",
    "<img src=\\\"https://api.collinsdictionary.com/external/images/redspeaker.gif?version=2016-11-09-0913\\\" alt=\\\"Pronunciation for ache\\\" class=\\\"sound\\\" title=\\\"Pronunciation for ache\\\" style=\\\"cursor: pointer\\\"/>\n",
    "</a>\n",
    "<audio type=\\\"pronunciation\\\" title=\\\"ache\\\">\n",
    "<source type=\\\"audio/mpeg\\\" src=\\\"https://api.collinsdictionary.com/media/sounds/sounds/0/004/00422/00422.mp3\\\"/>Your browser does not support HTML5 audio.</audio>\n",
    "</span>\n",
    "<span>)</span>\n",
    "</span>\n",
    "<div class=\\\"hom\\\" id=\\\"ache_1.1\\\">\n",
    "<span class=\\\"gramGrp\\\">\n",
    "<span>   </span>\n",
    "<span class=\\\"pos\\\">verb</span>\n",
    "<span class=\\\"subc\\\">\n",
    "<span> </span>\n",
    "<span>(</span>intransitive<span>)</span>\n",
    "</span>\n",
    "</span>\n",
    "<div class=\\\"sense\\\">\n",
    "<span class=\\\"sensenum\\\">     1 </span>\n",
    "<span class=\\\"def\\\">to feel, suffer, or be the source of a continuous dull pain</span>\n",
    "</div>\n",
    "<!-- End of DIV sense-->\n",
    "<div class=\\\"sense\\\">\n",
    "<span class=\\\"sensenum\\\">     2 </span>\n",
    "<span class=\\\"def\\\">to suffer mental anguish</span>\n",
    "</div>\n",
    "<!-- End of DIV sense-->\n",
    "</div>\n",
    "<!-- End of DIV hom-->\n",
    "<div class=\\\"hom\\\" id=\\\"ache_1.2\\\">\n",
    "<span> <br/>▷ </span>\n",
    "<span class=\\\"gramGrp\\\">\n",
    "<span class=\\\"pos\\\">noun</span>\n",
    "</span>\n",
    "<div class=\\\"sense\\\">\n",
    "<span class=\\\"sensenum\\\">     3 </span>\n",
    "<span class=\\\"def\\\">a continuous dull pain</span>\n",
    "</div>\n",
    "<!-- End of DIV sense-->\n",
    "</div>\n",
    "<!-- End of DIV hom-->\n",
    "<div class=\\\"etym\\\">\n",
    "<span>   [</span>Old English <em class=\\\"hi\\\">ācan</em> (vb), <em class=\\\"hi\\\">æce</em> (n), Middle English <em class=\\\"hi\\\">aken</em> (vb), <em class=\\\"hi\\\">ache</em> (n). Compare <em class=\\\"hi\\\">bake</em>, <em class=\\\"hi\\\">batch</em>\n",
    "<span>]</span>\n",
    "</div>\n",
    "<!-- End of DIV etym-->\n",
    "<span class=\\\"re\\\" id=\\\"ache_1.3\\\">\n",
    "<span> <br/>&gt; </span>\n",
    "<span class=\\\"inline\\\">\n",
    "<span class=\\\"orth\\\">ˈaching</span>\n",
    "</span>\n",
    "<div class=\\\"hom\\\" id=\\\"ache_1.4\\\">\n",
    "<span class=\\\"gramGrp\\\">\n",
    "<span> </span>\n",
    "<span class=\\\"pos\\\">adjective</span>\n",
    "</span>\n",
    "</div>\n",
    "<!-- End of DIV hom-->\n",
    "</span>\n",
    "<span class=\\\"re\\\" id=\\\"ache_1.5\\\">\n",
    "<span>   &gt; </span>\n",
    "<span class=\\\"inline\\\">\n",
    "<span class=\\\"orth\\\">ˈachingly</span>\n",
    "</span>\n",
    "<div class=\\\"hom\\\" id=\\\"ache_1.6\\\">\n",
    "<span class=\\\"gramGrp\\\">\n",
    "<span> </span>\n",
    "<span class=\\\"pos\\\">adverb</span>\n",
    "</span>\n",
    "</div>\n",
    "<!-- End of DIV hom-->\n",
    "</span>\n",
    "</div>\n",
    "<!-- End of DIV entry lang_en-gb-->\n",
    "</div>\n",
    "<!-- End of DIV entry_container-->\\n\",\n",
    "    \"entryLabel\": \"ache\",\n",
    "    \"entryUrl\": \"http://api.collinsdictionary.com/api/v1/dictionaries/english/entries/ache_1\",\n",
    "    \"format\": \"html\",\n",
    "    \"entryId\": \"ache_1\"\n",
    "}\n",
    "\n",
    "\n",
    "\"\"\""
   ]
  },
  {
   "cell_type": "code",
   "execution_count": 6,
   "metadata": {
    "collapsed": false
   },
   "outputs": [
    {
     "data": {
      "text/plain": [
       "[<span class=\"orth\">\\u02c8aching</span>,\n",
       " <span class=\"orth\">\\u02c8achingly</span>]"
      ]
     },
     "execution_count": 6,
     "metadata": {},
     "output_type": "execute_result"
    }
   ],
   "source": [
    "from bs4 import BeautifulSoup\n",
    "soup = BeautifulSoup(HTML_text2, 'html.parser')\n",
    "\n",
    "#print(soup.prettify())\n",
    "soup.find_all(\"span\", class_=\"orth\")"
   ]
  },
  {
   "cell_type": "code",
   "execution_count": null,
   "metadata": {
    "collapsed": true
   },
   "outputs": [],
   "source": [
    "#american dict id: american-learner"
   ]
  }
 ],
 "metadata": {
  "kernelspec": {
   "display_name": "Python 2",
   "language": "python",
   "name": "python2"
  },
  "language_info": {
   "codemirror_mode": {
    "name": "ipython",
    "version": 2
   },
   "file_extension": ".py",
   "mimetype": "text/x-python",
   "name": "python",
   "nbconvert_exporter": "python",
   "pygments_lexer": "ipython2",
   "version": "2.7.11"
  }
 },
 "nbformat": 4,
 "nbformat_minor": 2
}
